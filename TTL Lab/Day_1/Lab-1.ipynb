{
 "cells": [
  {
   "cell_type": "markdown",
   "id": "bf9bf060",
   "metadata": {},
   "source": [
    "# Print statements"
   ]
  },
  {
   "cell_type": "code",
   "execution_count": 30,
   "id": "1eab60eb",
   "metadata": {},
   "outputs": [
    {
     "name": "stdout",
     "output_type": "stream",
     "text": [
      "My name is Om\n",
      "Hello World!\n"
     ]
    }
   ],
   "source": [
    "print(\"My name is Om\")\n",
    "print(\"Hello World!\")"
   ]
  },
  {
   "cell_type": "markdown",
   "id": "598cd1f6",
   "metadata": {},
   "source": [
    "# Variable declaration"
   ]
  },
  {
   "cell_type": "code",
   "execution_count": 32,
   "id": "7c3bd0a5",
   "metadata": {},
   "outputs": [
    {
     "name": "stdout",
     "output_type": "stream",
     "text": [
      "1000 + Om\n",
      "1000\n",
      "1001\n",
      "1002\n",
      "1003\n",
      "1004\n",
      "1005\n",
      "15 7.7 Shree\n"
     ]
    }
   ],
   "source": [
    "miles = 1000\n",
    "name = \"Om\"\n",
    "print(miles, \"+\", name)\n",
    "while miles <= 1005 :\n",
    "    print(miles)\n",
    "    miles += 1\n",
    "    \n",
    "a, b, c = 15, 7.7, \"Shree\"\n",
    "print(a, b, c)"
   ]
  },
  {
   "cell_type": "markdown",
   "id": "f3bc6d94",
   "metadata": {},
   "source": [
    "# Typecasting"
   ]
  },
  {
   "cell_type": "code",
   "execution_count": 33,
   "id": "d12a4f5a",
   "metadata": {},
   "outputs": [
    {
     "name": "stdout",
     "output_type": "stream",
     "text": [
      "<class 'int'>\n",
      "<class 'float'>\n",
      "<class 'str'>\n",
      "156 5600 0.56 -44\n",
      "100.0\n",
      "100\n",
      "<class 'str'>\n"
     ]
    }
   ],
   "source": [
    "print(type(a))\n",
    "print(type(b))\n",
    "print(type(c))\n",
    "print(56+100, 56*100, 56/100, 56-100)\n",
    "fl = 100\n",
    "print(float(fl))\n",
    "print(str(fl))\n",
    "print(type(str(fl)))"
   ]
  },
  {
   "cell_type": "markdown",
   "id": "8e330afb",
   "metadata": {},
   "source": [
    "# Lists"
   ]
  },
  {
   "cell_type": "code",
   "execution_count": 74,
   "id": "0401aecf",
   "metadata": {},
   "outputs": [
    {
     "name": "stdout",
     "output_type": "stream",
     "text": [
      "['om', 77, 'shree', 56, 100.24, True]\n",
      "om shree\n",
      "[77, 'shree']\n",
      "[77, 'shree', 56, 100.24, True]\n",
      "['om', 77, 'shree', 56, 100.24, True, 'om', 77, 'shree', 56, 100.24, True]\n",
      "<class 'list'>\n"
     ]
    }
   ],
   "source": [
    "ls = [\"om\", 77, \"shree\", 56, 100.24, True]\n",
    "print(ls)\n",
    "print(ls[0], ls[2])\n",
    "print(ls[1:3])\n",
    "print(ls[1:])\n",
    "print(ls * 2)\n",
    "print(type(ls))"
   ]
  },
  {
   "cell_type": "markdown",
   "id": "f5184d61",
   "metadata": {},
   "source": [
    "# List operations"
   ]
  },
  {
   "cell_type": "code",
   "execution_count": 75,
   "id": "54e3eba3",
   "metadata": {},
   "outputs": [
    {
     "name": "stdout",
     "output_type": "stream",
     "text": [
      "6\n",
      "True False\n",
      "['om', 77, 'shree', 56, 100.24, True]\n",
      "7\n",
      "['om', 77, 'Gautam', 'shree', 56, 100.24, True]\n"
     ]
    }
   ],
   "source": [
    "print(len(ls))\n",
    "print(\"om\" in ls, 23 in ls)\n",
    "print(ls)\n",
    "ls.insert(2, \"Gautam\")\n",
    "print(len(ls))\n",
    "print(ls)"
   ]
  },
  {
   "cell_type": "markdown",
   "id": "8a387973",
   "metadata": {},
   "source": [
    "Try for urself: max, min, compare, append, count, extend, remove, reverse, sort, "
   ]
  },
  {
   "cell_type": "code",
   "execution_count": 102,
   "id": "3a8d9eb4",
   "metadata": {},
   "outputs": [
    {
     "name": "stdout",
     "output_type": "stream",
     "text": [
      "420\n",
      "32\n",
      "[32, 77, 100, 200, 300, 420]\n",
      "False\n",
      "[420, 300, 200, 100, 77, 32]\n",
      "1\n",
      "[420, 300, 200, 100, 77]\n",
      "[420, 300, 200, 100, 77, ['om', 77, 'Gautam', 'shree', 56, 100.24, True]]\n",
      "[420, 300, 200, 100, 77, ['om', 77, 'Gautam', 'shree', 56, 100.24, True], 'om', 77, 'Gautam', 'shree', 56, 100.24, True]\n",
      "[420, 300, 200, 100, 77, ['om', 77, 'Gautam', 'shree', 56, 100.24, True], 'om', 77, 'Gautam', 'shree', 56, 100.24, True, 'O', 'm']\n"
     ]
    }
   ],
   "source": [
    "ls2 = [100, 200, 300, 77, 32, 420]\n",
    "print(max(ls2))\n",
    "print(min(ls2))\n",
    "ls2.sort()\n",
    "print(ls2)\n",
    "print(ls == ls2)\n",
    "ls2.reverse()\n",
    "print(ls2)\n",
    "print(ls2.count(77))\n",
    "ls2.remove(32)\n",
    "print(ls2)\n",
    "ls2.append(ls)\n",
    "print(ls2)\n",
    "ls2.extend(ls)\n",
    "print(ls2)\n",
    "ls2.extend(\"Om\")\n",
    "print(ls2)"
   ]
  },
  {
   "cell_type": "markdown",
   "id": "93616915",
   "metadata": {},
   "source": [
    "# Dictionaries"
   ]
  },
  {
   "cell_type": "code",
   "execution_count": 113,
   "id": "d6c8ba2f",
   "metadata": {},
   "outputs": [
    {
     "name": "stdout",
     "output_type": "stream",
     "text": [
      "{'name': 'Om', 'roll': 77, 'cgpa': 9.3}\n",
      "77\n"
     ]
    }
   ],
   "source": [
    "student = {\n",
    "    \"name\" : \"Om\",\n",
    "    \"roll\" : 77,\n",
    "    \"cgpa\" : 9.3\n",
    "}\n",
    "print(student)\n",
    "print(student[\"roll\"])"
   ]
  },
  {
   "cell_type": "markdown",
   "id": "104b8c20",
   "metadata": {},
   "source": [
    "# Nested dictionary"
   ]
  },
  {
   "cell_type": "code",
   "execution_count": 117,
   "id": "bee679a5",
   "metadata": {},
   "outputs": [
    {
     "name": "stdout",
     "output_type": "stream",
     "text": [
      "{'Om': {'name': 'Om', 'roll': 77, 'department': 'management'}, 'Gautam': {'name': 'Gautam', 'roll': 122, 'department': 'development'}}\n",
      "{'name': 'Om', 'roll': 77, 'department': 'management'}\n"
     ]
    }
   ],
   "source": [
    "employ = {\n",
    "    \"Om\" : {\n",
    "        \"name\" : \"Om\",\n",
    "        \"roll\" : 77,\n",
    "        \"department\" : \"management\"\n",
    "    },\n",
    "    \n",
    "    \"Gautam\" : {\n",
    "        \"name\" : \"Gautam\",\n",
    "        \"roll\" : 122,\n",
    "        \"department\" : \"development\"\n",
    "    }\n",
    "}\n",
    "print(employ)\n",
    "print(employ[\"Om\"])"
   ]
  },
  {
   "cell_type": "code",
   "execution_count": null,
   "id": "08fdb426",
   "metadata": {},
   "outputs": [],
   "source": []
  }
 ],
 "metadata": {
  "kernelspec": {
   "display_name": "Python 3 (ipykernel)",
   "language": "python",
   "name": "python3"
  },
  "language_info": {
   "codemirror_mode": {
    "name": "ipython",
    "version": 3
   },
   "file_extension": ".py",
   "mimetype": "text/x-python",
   "name": "python",
   "nbconvert_exporter": "python",
   "pygments_lexer": "ipython3",
   "version": "3.11.1"
  }
 },
 "nbformat": 4,
 "nbformat_minor": 5
}

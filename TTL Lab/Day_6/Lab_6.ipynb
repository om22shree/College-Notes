{
 "cells": [
  {
   "cell_type": "markdown",
   "metadata": {
    "id": "rwfxjUM379oy"
   },
   "source": [
    "# Import and initialization"
   ]
  },
  {
   "cell_type": "code",
   "execution_count": 6,
   "metadata": {
    "id": "eyvzrB9Q1QZ0"
   },
   "outputs": [],
   "source": [
    "import numpy as np\n",
    "import pandas as pd\n",
    "import cv2 as cv\n",
    "import html5lib\n",
    "import matplotlib.pyplot as plt\n",
    "from google.colab.patches import cv2_imshow"
   ]
  },
  {
   "cell_type": "markdown",
   "metadata": {
    "id": "TsZDXyNf8Ehm"
   },
   "source": [
    "# Image Histogram"
   ]
  },
  {
   "cell_type": "code",
   "execution_count": null,
   "metadata": {
    "colab": {
     "base_uri": "https://localhost:8080/",
     "height": 767
    },
    "id": "nSV4QDpr1YCw",
    "outputId": "5e08ee21-119e-48f2-d302-2877e57994a0"
   },
   "outputs": [],
   "source": [
    "# Read the image\n",
    "img = cv.imread('momo.jpg', 0)\n",
    "plt.xlabel(\"Value\")\n",
    "plt.title('Histogram for given Image')\n",
    "plt.xlabel(\"pixel intensity\")\n",
    "plt.ylabel(\"pixel frequency\")\n",
    "print(plt.hist(img))\n",
    "cv2_imshow(img)\n",
    "cv.waitKey()"
   ]
  },
  {
   "cell_type": "markdown",
   "metadata": {
    "id": "81U5knVX8Jve"
   },
   "source": [
    "# Image histogram equalization"
   ]
  },
  {
   "cell_type": "code",
   "execution_count": null,
   "metadata": {
    "colab": {
     "base_uri": "https://localhost:8080/",
     "height": 302
    },
    "id": "E2ruq0lA8MTR",
    "outputId": "2e491e0d-2876-44fa-e3ad-83461beff14a"
   },
   "outputs": [],
   "source": [
    "img2 = cv.equalizeHist(img)\n",
    "res = np.hstack((img, img2))\n",
    "cv2_imshow(res)\n",
    "cv.waitKey()"
   ]
  },
  {
   "cell_type": "markdown",
   "metadata": {
    "id": "iBmCf_pd9Pfb"
   },
   "source": [
    "# Covariance between 2 images"
   ]
  },
  {
   "cell_type": "code",
   "execution_count": 14,
   "metadata": {
    "colab": {
     "base_uri": "https://localhost:8080/"
    },
    "id": "8M27Bfhu9ShR",
    "outputId": "ad708773-6025-4e6f-cb67-d4bb95a66cc6"
   },
   "outputs": [
    {
     "name": "stdout",
     "output_type": "stream",
     "text": [
      "1599985.26330393\n"
     ]
    }
   ],
   "source": [
    "def covImage(x, y):\n",
    "  xbar, ybar = x.mean(), y.mean()\n",
    "  return np.sum((x-xbar)*(y-ybar))/len(x)-1\n",
    "\n",
    "print(covImage(img, img2))"
   ]
  },
  {
   "cell_type": "markdown",
   "metadata": {
    "id": "oIVAHi7vOh5W"
   },
   "source": [
    "# Image stretching"
   ]
  },
  {
   "cell_type": "code",
   "execution_count": 29,
   "metadata": {
    "id": "2CTwcez6D1Qe"
   },
   "outputs": [],
   "source": [
    "# Image stretching kaam nahi kar rahi hai.\n",
    "#def stretch(image, minimum, maximum):\n",
    "#  image = (image - minimum) // (maximum - minimum)\n",
    "#  image[image < 0] = 0\n",
    "#  image[image > 1] = 1\n",
    "#  return image\n",
    "\n",
    "#res = stretch(img, 100, 200)\n",
    "#print(res)\n",
    "#cv2_imshow(res)"
   ]
  },
  {
   "cell_type": "markdown",
   "metadata": {
    "id": "f0uIt3ShGq-4"
   },
   "source": [
    "Padding : Applying extra pixels to the image boundary."
   ]
  },
  {
   "cell_type": "markdown",
   "metadata": {
    "id": "JuQ4KGt3H90T"
   },
   "source": [
    "Low frequency zone : no abrupt change of pixel values (smooth) "
   ]
  },
  {
   "cell_type": "markdown",
   "metadata": {
    "id": "mY-HKqc5IO8u"
   },
   "source": [
    "High frequency zone : abrupt change of pixel values (contrasted)"
   ]
  },
  {
   "cell_type": "markdown",
   "metadata": {
    "id": "fOm2GjoNJUMk"
   },
   "source": [
    "# Image Filters"
   ]
  },
  {
   "cell_type": "code",
   "execution_count": null,
   "metadata": {
    "colab": {
     "base_uri": "https://localhost:8080/",
     "height": 313
    },
    "id": "uyRDp8b4JWFs",
    "outputId": "d00e3165-fd95-4eae-95aa-cb3aa140af74"
   },
   "outputs": [],
   "source": [
    "# Applying a basic low-pass filter\n",
    "kernel = np.ones((3, 3), np.float32) / 9\n",
    "dst = cv.filter2D(img, -1, kernel)\n",
    "cv2_imshow(dst)\n",
    "cv.waitKey()\n",
    "cv.destroyAllWindows()"
   ]
  },
  {
   "cell_type": "markdown",
   "metadata": {
    "id": "qxPNKbyDK2GO"
   },
   "source": [
    "# Comparison between original and filtered image"
   ]
  },
  {
   "cell_type": "code",
   "execution_count": null,
   "metadata": {
    "colab": {
     "base_uri": "https://localhost:8080/",
     "height": 302
    },
    "id": "RTuEQ_qBK5Xz",
    "outputId": "bacd7b43-c22b-4df7-8388-6cd2f9ee5be5"
   },
   "outputs": [],
   "source": [
    "kernel = np.ones((9, 9), np.float32) / 81\n",
    "dst = cv.filter2D(img, -1, kernel)\n",
    "res = np.hstack((img, dst))\n",
    "cv2_imshow(res)\n",
    "cv.waitKey()"
   ]
  },
  {
   "cell_type": "code",
   "execution_count": null,
   "metadata": {
    "id": "vRGMF_YRLFq_"
   },
   "outputs": [],
   "source": []
  }
 ],
 "metadata": {
  "colab": {
   "provenance": []
  },
  "kernelspec": {
   "display_name": "Python 3 (ipykernel)",
   "language": "python",
   "name": "python3"
  },
  "language_info": {
   "codemirror_mode": {
    "name": "ipython",
    "version": 3
   },
   "file_extension": ".py",
   "mimetype": "text/x-python",
   "name": "python",
   "nbconvert_exporter": "python",
   "pygments_lexer": "ipython3",
   "version": "3.9.13"
  }
 },
 "nbformat": 4,
 "nbformat_minor": 1
}

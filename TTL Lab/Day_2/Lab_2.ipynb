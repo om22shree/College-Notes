{
  "cells": [
    {
      "cell_type": "markdown",
      "id": "c42cf35e",
      "metadata": {
        "id": "c42cf35e"
      },
      "source": [
        "# Strings"
      ]
    },
    {
      "cell_type": "code",
      "execution_count": null,
      "id": "18c984c1",
      "metadata": {
        "id": "18c984c1"
      },
      "outputs": [],
      "source": [
        "## Needed further in class:\n",
        "import math"
      ]
    },
    {
      "cell_type": "code",
      "execution_count": null,
      "id": "babd70e1",
      "metadata": {
        "scrolled": true,
        "id": "babd70e1",
        "outputId": "ade85b61-d78c-4eaa-c44f-a6f20e042984"
      },
      "outputs": [
        {
          "name": "stdout",
          "output_type": "stream",
          "text": [
            "Hello World\n",
            "<class 'str'>\n",
            "11\n",
            "Hello WorldHello World\n",
            "o\n",
            "llo World\n",
            "llo\n",
            "Hello World Om\n"
          ]
        }
      ],
      "source": [
        "str = \"Hello World\"\n",
        "print(str)\n",
        "print(type(str))\n",
        "print(len(str))\n",
        "print(str * 2)\n",
        "print(str[4])\n",
        "print(str[2:])\n",
        "print(str[2:5])\n",
        "print(str + \" Om\")"
      ]
    },
    {
      "cell_type": "markdown",
      "id": "87fe741f",
      "metadata": {
        "id": "87fe741f"
      },
      "source": [
        "# String Manipulation "
      ]
    },
    {
      "cell_type": "code",
      "execution_count": null,
      "id": "0f471749",
      "metadata": {
        "id": "0f471749",
        "outputId": "3eeb3135-f89a-4f31-d8ef-e58e6e5c923a"
      },
      "outputs": [
        {
          "name": "stdout",
          "output_type": "stream",
          "text": [
            "HELLO WORLD\n",
            "hello world\n",
            "4\n",
            "dlroW olleH\n"
          ]
        }
      ],
      "source": [
        "print(str.upper())\n",
        "print(str.lower())\n",
        "print(str.find(\"o\"))\n",
        "\n",
        "## For reversal:-\n",
        "print(str[::-1])"
      ]
    },
    {
      "cell_type": "markdown",
      "id": "2e04afb5",
      "metadata": {
        "id": "2e04afb5"
      },
      "source": [
        "# Loops "
      ]
    },
    {
      "cell_type": "code",
      "execution_count": null,
      "id": "c7315373",
      "metadata": {
        "id": "c7315373",
        "outputId": "01e8948f-81d8-47af-d9dc-e0de55592d68"
      },
      "outputs": [
        {
          "name": "stdout",
          "output_type": "stream",
          "text": [
            "[True, False] [12, 32, 77, 100] ['Om', 'Anand']\n"
          ]
        }
      ],
      "source": [
        "## Segregation based on data-types\n",
        "ls = [True, 12, False, 32, 77, \"Om\", 100, \"Anand\"]\n",
        "ls1 = []\n",
        "ls2 = []\n",
        "ls3 = []\n",
        "\n",
        "for i in ls:\n",
        "    if type(i) == bool :\n",
        "        ls1.append(i)\n",
        "    elif type(i) == int:\n",
        "        ls2.append(i)\n",
        "    else:\n",
        "        ls3.append(i)\n",
        "print(ls1, ls2, ls3)"
      ]
    },
    {
      "cell_type": "code",
      "execution_count": null,
      "id": "1a0d76cc",
      "metadata": {
        "id": "1a0d76cc",
        "outputId": "2b368d3b-cc59-43b4-e2e5-b960539e0319"
      },
      "outputs": [
        {
          "name": "stdout",
          "output_type": "stream",
          "text": [
            "H e l l o   W o r l d ,   O m \n",
            "\n",
            "10 11 12 13 14 15 16 17 18 19 \n",
            "\n",
            "  W o r l \n",
            "\n",
            "0 -1 -2 -3 -4 -5 -6 -7 -8 -9 -10 \n",
            "\n"
          ]
        }
      ],
      "source": [
        "s1 = \"Hello World, Om\"\n",
        "for x in s1:\n",
        "    print(x, end=\" \")\n",
        "print(\"\\n\")\n",
        "\n",
        "for x in range(10, 20):\n",
        "    print(x, end=\" \")\n",
        "print(\"\\n\")\n",
        "\n",
        "for x in range(5, 10):\n",
        "    print(s1[x], end=\" \")\n",
        "print(\"\\n\")\n",
        "\n",
        "for x in range(0, -11, -1):\n",
        "    print(x, end=\" \")\n",
        "print(\"\\n\")"
      ]
    },
    {
      "cell_type": "markdown",
      "id": "5b7a5f3b",
      "metadata": {
        "id": "5b7a5f3b"
      },
      "source": [
        "# Functions in Python"
      ]
    },
    {
      "cell_type": "code",
      "execution_count": null,
      "id": "6dbfab4e",
      "metadata": {
        "id": "6dbfab4e",
        "outputId": "821acc7f-d0a4-476c-b963-1985026402cf"
      },
      "outputs": [
        {
          "name": "stdout",
          "output_type": "stream",
          "text": [
            "Enter the number: 120\n",
            "120  :  False\n",
            "Enter the number: 23\n",
            "23  :  True\n"
          ]
        }
      ],
      "source": [
        "## Check if the given number is prime or not?\n",
        "def isPrime(n):\n",
        "    flag = True\n",
        "    for x in range(2, int(math.sqrt(n))):\n",
        "        if(n%x == 0):\n",
        "            flag = False\n",
        "            break\n",
        "    return flag\n",
        "\n",
        "n1 = int(input(\"Enter the number: \"))\n",
        "print(n1, \" : \", isPrime(n1))\n",
        "n2 = int(input(\"Enter the number: \"))\n",
        "print(n2, \" : \", isPrime(n2))"
      ]
    },
    {
      "cell_type": "code",
      "execution_count": null,
      "id": "6f0639c5",
      "metadata": {
        "id": "6f0639c5",
        "outputId": "1a172fd4-a4d4-4b97-aad0-ffdb5715baad"
      },
      "outputs": [
        {
          "name": "stdout",
          "output_type": "stream",
          "text": [
            "[True, False]\n",
            "[12, 32, 77, 100]\n",
            "['Om', 'Anand']\n"
          ]
        }
      ],
      "source": [
        "## Same segregate data-types using a function.\n",
        "def segDataType(ls):\n",
        "    ls1 = []\n",
        "    ls2 = []\n",
        "    ls3 = []\n",
        "\n",
        "    for i in ls:\n",
        "        if type(i) == bool :\n",
        "            ls1.append(i)\n",
        "        elif type(i) == int:\n",
        "            ls2.append(i)\n",
        "        else:\n",
        "            ls3.append(i)\n",
        "    return [ls1, ls2, ls3]\n",
        "\n",
        "ls = [True, 12, False, 32, 77, \"Om\", 100, \"Anand\"]\n",
        "## ls4 is global, now the results of this function-call(segDataType) are globally accessable.\n",
        "ls4 = segDataType(ls)\n",
        "for x in ls4: print(x)"
      ]
    },
    {
      "cell_type": "markdown",
      "id": "637893ab",
      "metadata": {
        "id": "637893ab"
      },
      "source": [
        "# Assignment Questions"
      ]
    },
    {
      "cell_type": "code",
      "execution_count": null,
      "id": "952bf1a8",
      "metadata": {
        "id": "952bf1a8",
        "outputId": "3fbc8f25-dec4-4e06-cd93-5bb365362fbe"
      },
      "outputs": [
        {
          "name": "stdout",
          "output_type": "stream",
          "text": [
            "abba\n",
            "True\n"
          ]
        }
      ],
      "source": [
        "## Q1: Python program to check whether the string is Symmetrical or Palindrome\n",
        "def isPalindrome(ls):\n",
        "    return ls == ls[::-1]\n",
        "\n",
        "ls = input()\n",
        "print(isPalindrome(ls))"
      ]
    },
    {
      "cell_type": "code",
      "execution_count": null,
      "id": "2408e6bb",
      "metadata": {
        "id": "2408e6bb",
        "outputId": "ea90c9e0-a78e-4751-f0ac-265a1284a395"
      },
      "outputs": [
        {
          "name": "stdout",
          "output_type": "stream",
          "text": [
            "My Name is Om Shree\n",
            "Shree Om is Name My\n"
          ]
        }
      ],
      "source": [
        "## Q2: Python program to reverse words in a given string.\n",
        "\n",
        "ls = input()\n",
        "print(\" \".join(ls.split()[::-1]))"
      ]
    },
    {
      "cell_type": "code",
      "execution_count": null,
      "id": "3c2e7030",
      "metadata": {
        "id": "3c2e7030",
        "outputId": "2bea3a6b-0092-4178-c208-e70efaa34183"
      },
      "outputs": [
        {
          "name": "stdout",
          "output_type": "stream",
          "text": [
            "Om Shree\n",
            "Target index to remove: 2\n",
            "OmShree\n"
          ]
        }
      ],
      "source": [
        "## Q3: Python program to remove 'i'th character from string.\n",
        "s = input()\n",
        "i = int(input(\"Target index to remove: \"))\n",
        "ls = list(s)\n",
        "del ls[i]\n",
        "print(''.join(ls))"
      ]
    },
    {
      "cell_type": "code",
      "execution_count": null,
      "id": "006fd52e",
      "metadata": {
        "id": "006fd52e",
        "outputId": "f0ee4b33-fbe5-4edb-f92a-e78870cc4741"
      },
      "outputs": [
        {
          "name": "stdout",
          "output_type": "stream",
          "text": [
            "7\n"
          ]
        }
      ],
      "source": [
        "## Q4: Python program to avoid spaces in string length.\n",
        "s = \"Om Shree\"\n",
        "l = s.replace(\" \", \"\")\n",
        "print(len(l))"
      ]
    },
    {
      "cell_type": "code",
      "source": [
        "## Q5: Python program to capitalize the firt and last word of each word in\n",
        "## the string.\n",
        "\n",
        "s = \"My name is Om Shree\"\n",
        "ls = s.split(\" \")\n",
        "i = 0\n",
        "for x in ls:\n",
        "  ls[i] = x[0].upper() + x[1:len(x)-1] + x[len(x)-1].upper()\n",
        "  i += 1\n",
        "print(\" \".join(ls))"
      ],
      "metadata": {
        "colab": {
          "base_uri": "https://localhost:8080/"
        },
        "id": "NQQ_-YSKDwWj",
        "outputId": "6f7de1f5-3863-499f-b16b-c70e5f3fed40"
      },
      "id": "NQQ_-YSKDwWj",
      "execution_count": 1,
      "outputs": [
        {
          "output_type": "stream",
          "name": "stdout",
          "text": [
            "MY NamE IS OM ShreE\n"
          ]
        }
      ]
    },
    {
      "cell_type": "code",
      "source": [],
      "metadata": {
        "id": "Fkw4SkuFD6pP"
      },
      "id": "Fkw4SkuFD6pP",
      "execution_count": null,
      "outputs": []
    }
  ],
  "metadata": {
    "kernelspec": {
      "display_name": "Python 3 (ipykernel)",
      "language": "python",
      "name": "python3"
    },
    "language_info": {
      "codemirror_mode": {
        "name": "ipython",
        "version": 3
      },
      "file_extension": ".py",
      "mimetype": "text/x-python",
      "name": "python",
      "nbconvert_exporter": "python",
      "pygments_lexer": "ipython3",
      "version": "3.9.16"
    },
    "vscode": {
      "interpreter": {
        "hash": "69c3224eee69a1832c2def843cba77069ef8aba5b171abd2584371464babc268"
      }
    },
    "colab": {
      "provenance": []
    }
  },
  "nbformat": 4,
  "nbformat_minor": 5
}
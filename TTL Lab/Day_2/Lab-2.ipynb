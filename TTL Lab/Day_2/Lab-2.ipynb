{
 "cells": [
  {
   "cell_type": "markdown",
   "id": "c42cf35e",
   "metadata": {},
   "source": [
    "# Strings"
   ]
  },
  {
   "cell_type": "code",
   "execution_count": 63,
   "id": "18c984c1",
   "metadata": {},
   "outputs": [],
   "source": [
    "## Needed further in class:\n",
    "import math"
   ]
  },
  {
   "cell_type": "code",
   "execution_count": 9,
   "id": "babd70e1",
   "metadata": {
    "scrolled": true
   },
   "outputs": [
    {
     "name": "stdout",
     "output_type": "stream",
     "text": [
      "Hello World\n",
      "<class 'str'>\n",
      "11\n",
      "Hello WorldHello World\n",
      "o\n",
      "llo World\n",
      "llo\n",
      "Hello World Om\n"
     ]
    }
   ],
   "source": [
    "str = \"Hello World\"\n",
    "print(str)\n",
    "print(type(str))\n",
    "print(len(str))\n",
    "print(str * 2)\n",
    "print(str[4])\n",
    "print(str[2:])\n",
    "print(str[2:5])\n",
    "print(str + \" Om\")"
   ]
  },
  {
   "cell_type": "markdown",
   "id": "87fe741f",
   "metadata": {},
   "source": [
    "# String Manipulation "
   ]
  },
  {
   "cell_type": "code",
   "execution_count": 40,
   "id": "0f471749",
   "metadata": {},
   "outputs": [
    {
     "name": "stdout",
     "output_type": "stream",
     "text": [
      "HELLO WORLD\n",
      "hello world\n",
      "4\n",
      "dlroW olleH\n"
     ]
    }
   ],
   "source": [
    "print(str.upper())\n",
    "print(str.lower())\n",
    "print(str.find(\"o\"))\n",
    "\n",
    "## For reversal:-\n",
    "print(str[::-1])"
   ]
  },
  {
   "cell_type": "markdown",
   "id": "2e04afb5",
   "metadata": {},
   "source": [
    "# Loops "
   ]
  },
  {
   "cell_type": "code",
   "execution_count": 42,
   "id": "c7315373",
   "metadata": {},
   "outputs": [
    {
     "name": "stdout",
     "output_type": "stream",
     "text": [
      "[True, False] [12, 32, 77, 100] ['Om', 'Anand']\n"
     ]
    }
   ],
   "source": [
    "## Segregation based on data-types\n",
    "ls = [True, 12, False, 32, 77, \"Om\", 100, \"Anand\"]\n",
    "ls1 = []\n",
    "ls2 = []\n",
    "ls3 = []\n",
    "\n",
    "for i in ls:\n",
    "    if type(i) == bool :\n",
    "        ls1.append(i)\n",
    "    elif type(i) == int:\n",
    "        ls2.append(i)\n",
    "    else:\n",
    "        ls3.append(i)\n",
    "print(ls1, ls2, ls3)"
   ]
  },
  {
   "cell_type": "code",
   "execution_count": 56,
   "id": "1a0d76cc",
   "metadata": {},
   "outputs": [
    {
     "name": "stdout",
     "output_type": "stream",
     "text": [
      "H e l l o   W o r l d ,   O m \n",
      "\n",
      "10 11 12 13 14 15 16 17 18 19 \n",
      "\n",
      "  W o r l \n",
      "\n",
      "0 -1 -2 -3 -4 -5 -6 -7 -8 -9 -10 \n",
      "\n"
     ]
    }
   ],
   "source": [
    "s1 = \"Hello World, Om\"\n",
    "for x in s1:\n",
    "    print(x, end=\" \")\n",
    "print(\"\\n\")\n",
    "\n",
    "for x in range(10, 20):\n",
    "    print(x, end=\" \")\n",
    "print(\"\\n\")\n",
    "\n",
    "for x in range(5, 10):\n",
    "    print(s1[x], end=\" \")\n",
    "print(\"\\n\")\n",
    "\n",
    "for x in range(0, -11, -1):\n",
    "    print(x, end=\" \")\n",
    "print(\"\\n\")"
   ]
  },
  {
   "cell_type": "markdown",
   "id": "5b7a5f3b",
   "metadata": {},
   "source": [
    "# Functions in Python"
   ]
  },
  {
   "cell_type": "code",
   "execution_count": 70,
   "id": "6dbfab4e",
   "metadata": {},
   "outputs": [
    {
     "name": "stdout",
     "output_type": "stream",
     "text": [
      "Enter the number: 120\n",
      "120  :  False\n",
      "Enter the number: 23\n",
      "23  :  True\n"
     ]
    }
   ],
   "source": [
    "## Check if the given number is prime or not?\n",
    "def isPrime(n):\n",
    "    flag = True\n",
    "    for x in range(2, int(math.sqrt(n))):\n",
    "        if(n%x == 0):\n",
    "            flag = False\n",
    "            break\n",
    "    return flag\n",
    "\n",
    "n1 = int(input(\"Enter the number: \"))\n",
    "print(n1, \" : \", isPrime(n1))\n",
    "n2 = int(input(\"Enter the number: \"))\n",
    "print(n2, \" : \", isPrime(n2))"
   ]
  },
  {
   "cell_type": "code",
   "execution_count": 84,
   "id": "6f0639c5",
   "metadata": {},
   "outputs": [
    {
     "name": "stdout",
     "output_type": "stream",
     "text": [
      "[True, False]\n",
      "[12, 32, 77, 100]\n",
      "['Om', 'Anand']\n"
     ]
    }
   ],
   "source": [
    "## Same segregate data-types using a function.\n",
    "def segDataType(ls):\n",
    "    ls1 = []\n",
    "    ls2 = []\n",
    "    ls3 = []\n",
    "\n",
    "    for i in ls:\n",
    "        if type(i) == bool :\n",
    "            ls1.append(i)\n",
    "        elif type(i) == int:\n",
    "            ls2.append(i)\n",
    "        else:\n",
    "            ls3.append(i)\n",
    "    return [ls1, ls2, ls3]\n",
    "\n",
    "ls = [True, 12, False, 32, 77, \"Om\", 100, \"Anand\"]\n",
    "## ls4 is global, now the results of this function-call(segDataType) are globally accessable.\n",
    "ls4 = segDataType(ls)\n",
    "for x in ls4: print(x)"
   ]
  },
  {
   "cell_type": "markdown",
   "id": "637893ab",
   "metadata": {},
   "source": [
    "# Assignment Questions"
   ]
  },
  {
   "cell_type": "code",
   "execution_count": 5,
   "id": "952bf1a8",
   "metadata": {},
   "outputs": [
    {
     "name": "stdout",
     "output_type": "stream",
     "text": [
      "abba\n",
      "True\n"
     ]
    }
   ],
   "source": [
    "## Q1: Python program to check whether the string is Symmetrical or Palindrome\n",
    "def isPalindrome(ls):\n",
    "    return ls == ls[::-1]\n",
    "\n",
    "ls = input()\n",
    "print(isPalindrome(ls))"
   ]
  },
  {
   "cell_type": "code",
   "execution_count": 8,
   "id": "2408e6bb",
   "metadata": {},
   "outputs": [
    {
     "name": "stdout",
     "output_type": "stream",
     "text": [
      "My Name is Om Shree\n",
      "Shree Om is Name My\n"
     ]
    }
   ],
   "source": [
    "## Q2: Python program to reverse words in a given string.\n",
    "\n",
    "ls = input()\n",
    "print(\" \".join(ls.split()[::-1]))"
   ]
  },
  {
   "cell_type": "code",
   "execution_count": 9,
   "id": "3c2e7030",
   "metadata": {},
   "outputs": [
    {
     "name": "stdout",
     "output_type": "stream",
     "text": [
      "Om Shree\n",
      "Target index to remove: 2\n",
      "OmShree\n"
     ]
    }
   ],
   "source": [
    "## Q3: Python program to remove 'i'th character from string.\n",
    "s = input()\n",
    "i = int(input(\"Target index to remove: \"))\n",
    "ls = list(s)\n",
    "del ls[i]\n",
    "print(''.join(ls))"
   ]
  },
  {
   "cell_type": "code",
   "execution_count": 12,
   "id": "006fd52e",
   "metadata": {},
   "outputs": [
    {
     "name": "stdout",
     "output_type": "stream",
     "text": [
      "7\n"
     ]
    }
   ],
   "source": [
    "## Q4: Python program to avoid spaces in string length.\n",
    "s = \"Om Shree\"\n",
    "l = s.replace(\" \", \"\")\n",
    "print(len(l))"
   ]
  },
  {
   "cell_type": "code",
   "execution_count": null,
   "id": "2b89bf42",
   "metadata": {},
   "outputs": [],
   "source": []
  }
 ],
 "metadata": {
  "kernelspec": {
   "display_name": "Python 3 (ipykernel)",
   "language": "python",
   "name": "python3"
  },
  "language_info": {
   "codemirror_mode": {
    "name": "ipython",
    "version": 3
   },
   "file_extension": ".py",
   "mimetype": "text/x-python",
   "name": "python",
   "nbconvert_exporter": "python",
   "pygments_lexer": "ipython3",
   "version": "3.11.1"
  },
  "vscode": {
   "interpreter": {
    "hash": "69c3224eee69a1832c2def843cba77069ef8aba5b171abd2584371464babc268"
   }
  }
 },
 "nbformat": 4,
 "nbformat_minor": 5
}

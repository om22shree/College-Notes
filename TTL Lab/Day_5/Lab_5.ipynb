{
 "cells": [
  {
   "cell_type": "markdown",
   "metadata": {
    "id": "X2nYjURJQAOk"
   },
   "source": [
    "# Import and Initialization"
   ]
  },
  {
   "cell_type": "code",
   "execution_count": 4,
   "metadata": {
    "id": "oCV85ouCPYNT"
   },
   "outputs": [],
   "source": [
    "import numpy as np\n",
    "import pandas as pd\n",
    "from pandas import read_html\n",
    "import html5lib"
   ]
  },
  {
   "cell_type": "code",
   "execution_count": 5,
   "metadata": {
    "id": "rZ6b2eTiPprL"
   },
   "outputs": [],
   "source": [
    "url = \"https://en.wikipedia.org/wiki/Football\""
   ]
  },
  {
   "cell_type": "code",
   "execution_count": null,
   "metadata": {
    "colab": {
     "base_uri": "https://localhost:8080/"
    },
    "id": "yNm6t8nsQVFe",
    "outputId": "bb1ef906-b825-4825-cff4-3afcb7bdecbb"
   },
   "outputs": [],
   "source": [
    "tables_list = read_html(url)\n",
    "tables_list"
   ]
  },
  {
   "cell_type": "code",
   "execution_count": null,
   "metadata": {
    "colab": {
     "base_uri": "https://localhost:8080/",
     "height": 1000
    },
    "id": "nNBl21O1QaXg",
    "outputId": "ce1b57ed-0251-45db-b153-2c5ff1f76c55"
   },
   "outputs": [],
   "source": [
    "my_list = tables_list[0]\n",
    "my_list"
   ]
  },
  {
   "cell_type": "markdown",
   "metadata": {
    "id": "rQguN_iFQwWs"
   },
   "source": [
    "# Matrix Transpose"
   ]
  },
  {
   "cell_type": "code",
   "execution_count": null,
   "metadata": {
    "colab": {
     "base_uri": "https://localhost:8080/"
    },
    "id": "DyJdZPNiQybq",
    "outputId": "cb59c854-fcfd-40e7-9c08-b3971f555b93"
   },
   "outputs": [],
   "source": [
    "arr1 = np.array([[1, 2, 3], [4, 5, 6]])\n",
    "print(f'Original array:\\n{arr1}')\n",
    "arr1_transpose = arr1.transpose()\n",
    "print(f'Transposed array:\\n{arr1_transpose}')"
   ]
  },
  {
   "cell_type": "markdown",
   "metadata": {
    "id": "pnc1Ks2tRP6n"
   },
   "source": [
    "# Image Processing"
   ]
  },
  {
   "cell_type": "code",
   "execution_count": 14,
   "metadata": {
    "id": "mKT1ihWTRSGP"
   },
   "outputs": [],
   "source": [
    "import cv2 as cv\n",
    "from google.colab.patches import cv2_imshow\n",
    "from matplotlib import pyplot as plt"
   ]
  },
  {
   "cell_type": "code",
   "execution_count": null,
   "metadata": {
    "colab": {
     "base_uri": "https://localhost:8080/",
     "height": 859
    },
    "id": "tqn045oMRZmJ",
    "outputId": "c63face5-d520-4d5e-e3ed-e0293ea9fb7e"
   },
   "outputs": [],
   "source": [
    "img = cv.imread(\"momo.jpg\", 1)\n",
    "print(type(img))\n",
    "print(img.shape)\n",
    "px = img[100, 100]\n",
    "print(px)\n",
    "cv2_imshow(img)\n",
    "cv.waitKey()"
   ]
  },
  {
   "cell_type": "markdown",
   "metadata": {
    "id": "PxfFOj_RS7YJ"
   },
   "source": [
    "# Color split"
   ]
  },
  {
   "cell_type": "code",
   "execution_count": null,
   "metadata": {
    "colab": {
     "base_uri": "https://localhost:8080/",
     "height": 807
    },
    "id": "vM6MgKvBSPTC",
    "outputId": "8523fe70-3348-4f9b-c39c-bf4008cc0a10"
   },
   "outputs": [],
   "source": [
    "b, g, r = cv.split(img)\n",
    "b = img[:, :, 0]\n",
    "g = img[:, :, 1]\n",
    "r = img[:, :, 2]\n",
    "cv2_imshow(r)\n",
    "cv.waitKey()"
   ]
  },
  {
   "cell_type": "code",
   "execution_count": null,
   "metadata": {
    "colab": {
     "base_uri": "https://localhost:8080/"
    },
    "id": "es1wqtdBTSIe",
    "outputId": "66747e20-b315-46a7-bab0-93ddebeff721"
   },
   "outputs": [],
   "source": [
    "print(img)"
   ]
  },
  {
   "cell_type": "markdown",
   "metadata": {
    "id": "8JWOxFK6Tf3s"
   },
   "source": [
    "# Flip the image"
   ]
  },
  {
   "cell_type": "code",
   "execution_count": null,
   "metadata": {
    "colab": {
     "base_uri": "https://localhost:8080/",
     "height": 789
    },
    "id": "AgZ3mX2pTcmR",
    "outputId": "1d3ad2bd-f667-435d-bcb3-ad36d7750164"
   },
   "outputs": [],
   "source": [
    "rows, cols, _ = img.shape\n",
    "flipped = np.zeros_like(img)\n",
    "for i in range(rows):\n",
    "  flipped[i, :] = img[rows-i-1, :]\n",
    "cv2_imshow(flipped)\n",
    "cv.waitKey()\n",
    "cv.destroyAllWindows()"
   ]
  },
  {
   "cell_type": "code",
   "execution_count": null,
   "metadata": {
    "colab": {
     "base_uri": "https://localhost:8080/",
     "height": 807
    },
    "id": "upHf4Zz0T7sq",
    "outputId": "6ac0ce4a-dd96-4191-df3d-bf4f9440011f"
   },
   "outputs": [],
   "source": [
    "img[100:200, 200:400] = -1\n",
    "cv2_imshow(img)\n",
    "cv.waitKey()"
   ]
  },
  {
   "cell_type": "markdown",
   "metadata": {
    "id": "B-LuLYaIUgjc"
   },
   "source": [
    "### Om Shree\n",
    "### 2006077\n",
    "### IT - 02\n",
    "### T&T Lab 5\n",
    "### 02 - Feb - 2023"
   ]
  }
 ],
 "metadata": {
  "colab": {
   "provenance": []
  },
  "kernelspec": {
   "display_name": "Python 3 (ipykernel)",
   "language": "python",
   "name": "python3"
  },
  "language_info": {
   "codemirror_mode": {
    "name": "ipython",
    "version": 3
   },
   "file_extension": ".py",
   "mimetype": "text/x-python",
   "name": "python",
   "nbconvert_exporter": "python",
   "pygments_lexer": "ipython3",
   "version": "3.9.13"
  }
 },
 "nbformat": 4,
 "nbformat_minor": 1
}
